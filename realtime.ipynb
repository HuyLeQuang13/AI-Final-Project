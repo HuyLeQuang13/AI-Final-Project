{
 "cells": [
  {
   "cell_type": "code",
   "execution_count": 2,
   "metadata": {},
   "outputs": [],
   "source": [
    "import cv2 as cv\n",
    "import cv2\n",
    "from tensorflow import keras\n",
    "from tensorflow.keras.preprocessing.image import load_img\n",
    "from tensorflow.keras.preprocessing.image import img_to_array \n",
    "from tensorflow.keras.models import load_model\n",
    "import numpy as np  \n",
    "import matplotlib.pyplot as plt\n",
    "model1 = load_model('linear.h5')\n",
    "label = {0: '1-5 ',\n",
    "          1: '6-10 ',    \n",
    "          2: '11-15 ',          \n",
    "          3: '16-20 ',          \n",
    "          4: '21-25 ',\n",
    "          5: '26-30 ',         \n",
    "          6: '31-35 ',\n",
    "          7: '36-40 ',\n",
    "          8: '41-45 ',\n",
    "          9: '46-50 ',\n",
    "          10: '51-55 ',\n",
    "          11: '56-60 ',\n",
    "          12: '61-65 ',\n",
    "          13: '65-70 ',\n",
    "          14: '71 -75 ',\n",
    "          15: '75-80 ',\n",
    "          16: '80-85 ',\n",
    "          17: '85 tro len'}"
   ]
  },
  {
   "cell_type": "code",
   "execution_count": 3,
   "metadata": {},
   "outputs": [
    {
     "name": "stdout",
     "output_type": "stream",
     "text": [
      "WARNING:tensorflow:AutoGraph could not transform <function Model.make_predict_function.<locals>.predict_function at 0x0000020471182678> and will run it as-is.\n",
      "Please report this to the TensorFlow team. When filing the bug, set the verbosity to 10 (on Linux, `export AUTOGRAPH_VERBOSITY=10`) and attach the full output.\n",
      "Cause: 'arguments' object has no attribute 'posonlyargs'\n",
      "To silence this warning, decorate the function with @tf.autograph.experimental.do_not_convert\n",
      "WARNING: AutoGraph could not transform <function Model.make_predict_function.<locals>.predict_function at 0x0000020471182678> and will run it as-is.\n",
      "Please report this to the TensorFlow team. When filing the bug, set the verbosity to 10 (on Linux, `export AUTOGRAPH_VERBOSITY=10`) and attach the full output.\n",
      "Cause: 'arguments' object has no attribute 'posonlyargs'\n",
      "To silence this warning, decorate the function with @tf.autograph.experimental.do_not_convert\n"
     ]
    }
   ],
   "source": [
    "vid = cv.VideoCapture(0)\n",
    "  \n",
    "while(True):\n",
    "      \n",
    "    # Capture the video frame\n",
    "    # by frame\n",
    "    ret, frame = vid.read()\n",
    "    #print(frame.shape)\n",
    "    if not ret:\n",
    "        print(' can not read video frame. Video ended?')\n",
    "        break\n",
    "    #frame=cv.cvtColor(frame,cv.COLOR_BGR2RGB)\n",
    "    #faces=sign_cascade.detectMultiScale(gray,1.5,2)\n",
    "    #face = cv.resize(frame,(225,225))\n",
    "    \n",
    "\n",
    "    \n",
    "    roi_color=cv.resize(frame,(100,100),interpolation=cv.INTER_AREA)    \n",
    "    result = model1.predict(np.array(roi_color).reshape(-1,100,100,3))\n",
    "    labels=label[(int(result))]\n",
    "    #labels = label[int(np.argmax(result,axis=1))]\n",
    "    label_position=(40,60) #50 pixels below to move the label oqutside the face\n",
    "    cv.putText(frame,labels,label_position,cv.FONT_HERSHEY_SIMPLEX,1,(0,255,0),2)\n",
    "        \n",
    "        \n",
    "\n",
    "    \n",
    "    \n",
    "  \n",
    "    # Display the resulting frame\n",
    "    cv.imshow('frame', frame)\n",
    "    #cv.imshow('roi',roi_color) \n",
    "    # the 'q' button is set as the\n",
    "    # quitting button you may use any\n",
    "    # desired button of your choice\n",
    "    if cv.waitKey(1) & 0xFF == ord('q'):\n",
    "        break\n",
    "  \n",
    "# After the loop release the cap object\n",
    "#vid.release()\n",
    "# Destroy all the windows\n",
    "cv.destroyAllWindows()"
   ]
  },
  {
   "cell_type": "code",
   "execution_count": null,
   "metadata": {},
   "outputs": [],
   "source": []
  }
 ],
 "metadata": {
  "kernelspec": {
   "display_name": "Python 3",
   "language": "python",
   "name": "python3"
  },
  "language_info": {
   "codemirror_mode": {
    "name": "ipython",
    "version": 3
   },
   "file_extension": ".py",
   "mimetype": "text/x-python",
   "name": "python",
   "nbconvert_exporter": "python",
   "pygments_lexer": "ipython3",
   "version": "3.7.4"
  }
 },
 "nbformat": 4,
 "nbformat_minor": 2
}
